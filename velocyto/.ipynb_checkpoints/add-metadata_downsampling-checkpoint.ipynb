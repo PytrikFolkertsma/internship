{
 "cells": [
  {
   "cell_type": "code",
   "execution_count": null,
   "metadata": {
    "collapsed": true
   },
   "outputs": [],
   "source": [
    "import loompy\n",
    "import glob\n",
    "import velocyto as vcy\n",
    "%matplotlib inline\n",
    "import matplotlib.pyplot as plt\n",
    "import numpy as np\n",
    "import pandas as pd"
   ]
  },
  {
   "cell_type": "code",
   "execution_count": 202,
   "metadata": {
    "collapsed": true
   },
   "outputs": [],
   "source": [
    "files = glob.glob('/data/sc-10x/data-runs/171120-scheele-adipose/*/velocyto/*.loom')\n",
    "\n",
    "#Loompy.combine looks at the first loom file and uses the \n",
    "#characteristcs of that one for the combined loom file, meaning the order of \n",
    "#the files matters. The CellID column contains the sample name plus bar code, \n",
    "#so if the first file in files is a sample with a short name, the cellID's of \n",
    "#44BSAT-3000_cells and BAT8-3000_cells won't fit in the new cellID column. \n",
    "#With the sorting step below 44BSAT-3000_cells will be the first file.\n",
    "#You can also specify how many characters a column can contain with loompy.combine,\n",
    "#but I don't know if there are more columns containing the cellID. \n",
    "files = sorted(files, key=lambda x: x.split('/')[-1])\n",
    "loompy.combine(files, '/projects/pytrik/sc_adipose/analyze_10x_fluidigm/data/velocyto/all10x.loom', key=\"Accession\")"
   ]
  },
  {
   "cell_type": "code",
   "execution_count": 301,
   "metadata": {
    "collapsed": true
   },
   "outputs": [],
   "source": [
    "vlm = vcy.VelocytoLoom('/projects/pytrik/sc_adipose/analyze_10x_fluidigm/data/velocyto/all10x.loom')"
   ]
  },
  {
   "cell_type": "code",
   "execution_count": 292,
   "metadata": {},
   "outputs": [
    {
     "name": "stdout",
     "output_type": "stream",
     "text": [
      "{'Subq_1', 'Supra_3', 'Peri_3', 'Visce_2', 'Supra_1', 'Supra_2', 'Subq_2', 'Peri_2', 'Visce_1', 'Peri_1', 'Subq_3', 'Visce_3', 'BAT8-3000_cells', '44BSAT-3000_cells'}\n"
     ]
    }
   ],
   "source": [
    "print(set(list(map(lambda x: x.split(':')[0], vlm.ca['CellID']))))"
   ]
  },
  {
   "cell_type": "code",
   "execution_count": 302,
   "metadata": {
    "collapsed": true
   },
   "outputs": [],
   "source": [
    "def rename_cellid(x):\n",
    "    if ('BAT8-3000_cells' in x):\n",
    "        return x.replace('BAT8-3000_cells', 'Supra_4')\n",
    "    elif ('44BSAT-3000_cells' in x):\n",
    "        return x.replace('44BSAT-3000_cells', 'Subq_4')\n",
    "    else:\n",
    "        return x"
   ]
  },
  {
   "cell_type": "code",
   "execution_count": 303,
   "metadata": {},
   "outputs": [],
   "source": [
    "vlm.ca['CellID'] = list(map(rename_cellid, vlm.ca['CellID']))\n",
    "vlm.ca['sample_name'] = list(map(lambda x: x.split(':')[0], vlm.ca['CellID']))\n",
    "#vlm.set_clusters(vlm.ca['sample_name'])"
   ]
  },
  {
   "cell_type": "code",
   "execution_count": 304,
   "metadata": {},
   "outputs": [
    {
     "name": "stdout",
     "output_type": "stream",
     "text": [
      "{'Supra_3', 'Peri_3', 'Visce_2', 'Supra_1', 'Supra_2', 'Subq_4', 'Subq_2', 'Peri_2', 'Visce_1', 'Peri_1', 'Subq_3', 'Visce_3', 'Subq_1', 'Supra_4'}\n"
     ]
    }
   ],
   "source": [
    "print(set(vlm.ca['sample_name']))"
   ]
  },
  {
   "cell_type": "code",
   "execution_count": 305,
   "metadata": {},
   "outputs": [
    {
     "name": "stdout",
     "output_type": "stream",
     "text": [
      "(13904, 22)\n",
      "                    nGene   nUMI     orig.ident sample_name2 sample_name diff  \\\n",
      "GCTCCTAGTCGACTAT-1   4274  26791  SeuratProject        Supra     Supra_4  80%   \n",
      "GGGATGAAGACACGAC-1   4251  35598  SeuratProject        Supra     Supra_4  80%   \n",
      "TAGGCATAGCCCTAAT-1   3945  23764  SeuratProject        Supra     Supra_4  80%   \n",
      "CAGAGAGTCCCATTTA-1   5170  36709  SeuratProject        Supra     Supra_4  80%   \n",
      "GTTCTCGAGACCTAGG-1   3985  19051  SeuratProject        Supra     Supra_4  80%   \n",
      "\n",
      "                   ucp1.ctrl ucp1.ne bmi  age    ...      res.0.5  res.0.6  \\\n",
      "GCTCCTAGTCGACTAT-1   medium     high  26   43    ...            1        1   \n",
      "GGGATGAAGACACGAC-1   medium     high  26   43    ...            1        1   \n",
      "TAGGCATAGCCCTAAT-1   medium     high  26   43    ...            1        1   \n",
      "CAGAGAGTCCCATTTA-1   medium     high  26   43    ...           13       14   \n",
      "GTTCTCGAGACCTAGG-1   medium     high  26   43    ...            1        1   \n",
      "\n",
      "                    res.0.7  res.0.8  res.0.9  res.1   S.Score  G2M.Score  \\\n",
      "GCTCCTAGTCGACTAT-1        0        0        0      3 -0.109075  -0.333846   \n",
      "GGGATGAAGACACGAC-1        0        0        0      9 -0.124095  -0.294935   \n",
      "TAGGCATAGCCCTAAT-1        0        0        0      9 -0.139780  -0.251587   \n",
      "CAGAGAGTCCCATTTA-1       17       17       17     19 -0.023541   0.571087   \n",
      "GTTCTCGAGACCTAGG-1        0        0        0      9 -0.144306  -0.295160   \n",
      "\n",
      "                    Phase  old.ident  \n",
      "GCTCCTAGTCGACTAT-1     G1          3  \n",
      "GGGATGAAGACACGAC-1     G1          9  \n",
      "TAGGCATAGCCCTAAT-1     G1          9  \n",
      "CAGAGAGTCCCATTTA-1    G2M         19  \n",
      "GTTCTCGAGACCTAGG-1     G1          9  \n",
      "\n",
      "[5 rows x 22 columns]\n"
     ]
    }
   ],
   "source": [
    "metadata = pd.read_table('/projects/pytrik/sc_adipose/analyze_10x_fluidigm/data/metadata-downsampled-36.txt', sep='\\t')\n",
    "print(metadata.shape)\n",
    "print(metadata.head(5))"
   ]
  },
  {
   "cell_type": "code",
   "execution_count": 306,
   "metadata": {},
   "outputs": [
    {
     "name": "stdout",
     "output_type": "stream",
     "text": [
      "(57519, 5)\n",
      "                     CellID  Clusters         _X         _Y sample_name\n",
      "0  Subq_4:AAAGATGTCACGAAGGx         0  -5.738976   4.225660      Subq_4\n",
      "1  Subq_4:AAATGCCCAGATCGGAx         5 -18.617771  -2.644823      Subq_4\n",
      "2  Subq_4:AAATGCCTCGCCAAATx         2  -9.881272  -7.504128      Subq_4\n",
      "3  Subq_4:AAACGGGGTAGCGCAAx         1   5.266000  20.643030      Subq_4\n",
      "4  Subq_4:AAACCTGAGCGACGTAx         4  -5.705080  22.961088      Subq_4\n"
     ]
    }
   ],
   "source": [
    "ca_df = pd.DataFrame(vlm.ca)\n",
    "print(ca_df.shape)\n",
    "print(ca_df.head(5))"
   ]
  },
  {
   "cell_type": "code",
   "execution_count": 307,
   "metadata": {
    "collapsed": true
   },
   "outputs": [],
   "source": [
    "metadata['CellID-old'] = metadata.index\n",
    "metadata['CellID'] = metadata[['CellID-old', 'sample_name']].apply(lambda x: x[1] + ':' + x[0].split('-')[0] + 'x', axis=1)"
   ]
  },
  {
   "cell_type": "code",
   "execution_count": 310,
   "metadata": {},
   "outputs": [
    {
     "ename": "IndexError",
     "evalue": "boolean index did not match indexed array along dimension 1; dimension is 13904 but corresponding boolean dimension is 57519",
     "output_type": "error",
     "traceback": [
      "\u001b[0;31m---------------------------------------------------------------------------\u001b[0m",
      "\u001b[0;31mIndexError\u001b[0m                                Traceback (most recent call last)",
      "\u001b[0;32m<ipython-input-310-072977faf3a4>\u001b[0m in \u001b[0;36m<module>\u001b[0;34m()\u001b[0m\n\u001b[1;32m      2\u001b[0m \u001b[0mcellids_vlm\u001b[0m \u001b[0;34m=\u001b[0m \u001b[0mnp\u001b[0m\u001b[0;34m.\u001b[0m\u001b[0marray\u001b[0m\u001b[0;34m(\u001b[0m\u001b[0mvlm\u001b[0m\u001b[0;34m.\u001b[0m\u001b[0mca\u001b[0m\u001b[0;34m[\u001b[0m\u001b[0;34m'CellID'\u001b[0m\u001b[0;34m]\u001b[0m\u001b[0;34m)\u001b[0m\u001b[0;34m\u001b[0m\u001b[0m\n\u001b[1;32m      3\u001b[0m \u001b[0mboolean_list_cells\u001b[0m \u001b[0;34m=\u001b[0m \u001b[0mnp\u001b[0m\u001b[0;34m.\u001b[0m\u001b[0misin\u001b[0m\u001b[0;34m(\u001b[0m\u001b[0mcellids_vlm\u001b[0m\u001b[0;34m,\u001b[0m \u001b[0mcells_to_keep\u001b[0m\u001b[0;34m)\u001b[0m\u001b[0;34m\u001b[0m\u001b[0m\n\u001b[0;32m----> 4\u001b[0;31m \u001b[0mvlm\u001b[0m\u001b[0;34m.\u001b[0m\u001b[0mfilter_cells\u001b[0m\u001b[0;34m(\u001b[0m\u001b[0mboolean_list_cells\u001b[0m\u001b[0;34m)\u001b[0m\u001b[0;34m\u001b[0m\u001b[0m\n\u001b[0m\u001b[1;32m      5\u001b[0m \u001b[0;31m##Don't use merge, filter VLM on cells from metadata, then add metadata. -\u001b[0m\u001b[0;34m\u001b[0m\u001b[0;34m\u001b[0m\u001b[0m\n\u001b[1;32m      6\u001b[0m \u001b[0;31m#merged = ca_df.merge(metadata, on='CellID', how='right')\u001b[0m\u001b[0;34m\u001b[0m\u001b[0;34m\u001b[0m\u001b[0m\n",
      "\u001b[0;32m/tools/anaconda/3-4.4.0/lib/python3.6/site-packages/velocyto/analysis.py\u001b[0m in \u001b[0;36mfilter_cells\u001b[0;34m(self, bool_array)\u001b[0m\n\u001b[1;32m    147\u001b[0m         \u001b[0mNothing\u001b[0m \u001b[0mbut\u001b[0m \u001b[0mit\u001b[0m \u001b[0mremoves\u001b[0m \u001b[0msome\u001b[0m \u001b[0mcells\u001b[0m \u001b[0;32mfrom\u001b[0m \u001b[0mS\u001b[0m \u001b[0;32mand\u001b[0m \u001b[0mU\u001b[0m\u001b[0;34m.\u001b[0m\u001b[0;34m\u001b[0m\u001b[0m\n\u001b[1;32m    148\u001b[0m         \"\"\"\n\u001b[0;32m--> 149\u001b[0;31m         \u001b[0mself\u001b[0m\u001b[0;34m.\u001b[0m\u001b[0mS\u001b[0m\u001b[0;34m,\u001b[0m \u001b[0mself\u001b[0m\u001b[0;34m.\u001b[0m\u001b[0mU\u001b[0m\u001b[0;34m,\u001b[0m \u001b[0mself\u001b[0m\u001b[0;34m.\u001b[0m\u001b[0mA\u001b[0m \u001b[0;34m=\u001b[0m \u001b[0;34m(\u001b[0m\u001b[0mX\u001b[0m\u001b[0;34m[\u001b[0m\u001b[0;34m:\u001b[0m\u001b[0;34m,\u001b[0m \u001b[0mbool_array\u001b[0m\u001b[0;34m]\u001b[0m \u001b[0;32mfor\u001b[0m \u001b[0mX\u001b[0m \u001b[0;32min\u001b[0m \u001b[0;34m(\u001b[0m\u001b[0mself\u001b[0m\u001b[0;34m.\u001b[0m\u001b[0mS\u001b[0m\u001b[0;34m,\u001b[0m \u001b[0mself\u001b[0m\u001b[0;34m.\u001b[0m\u001b[0mU\u001b[0m\u001b[0;34m,\u001b[0m \u001b[0mself\u001b[0m\u001b[0;34m.\u001b[0m\u001b[0mA\u001b[0m\u001b[0;34m)\u001b[0m\u001b[0;34m)\u001b[0m\u001b[0;34m\u001b[0m\u001b[0m\n\u001b[0m\u001b[1;32m    150\u001b[0m         \u001b[0mself\u001b[0m\u001b[0;34m.\u001b[0m\u001b[0minitial_cell_size\u001b[0m \u001b[0;34m=\u001b[0m \u001b[0mself\u001b[0m\u001b[0;34m.\u001b[0m\u001b[0minitial_cell_size\u001b[0m\u001b[0;34m[\u001b[0m\u001b[0mbool_array\u001b[0m\u001b[0;34m]\u001b[0m\u001b[0;34m\u001b[0m\u001b[0m\n\u001b[1;32m    151\u001b[0m         \u001b[0mself\u001b[0m\u001b[0;34m.\u001b[0m\u001b[0minitial_Ucell_size\u001b[0m \u001b[0;34m=\u001b[0m \u001b[0mself\u001b[0m\u001b[0;34m.\u001b[0m\u001b[0minitial_Ucell_size\u001b[0m\u001b[0;34m[\u001b[0m\u001b[0mbool_array\u001b[0m\u001b[0;34m]\u001b[0m\u001b[0;34m\u001b[0m\u001b[0m\n",
      "\u001b[0;32m/tools/anaconda/3-4.4.0/lib/python3.6/site-packages/velocyto/analysis.py\u001b[0m in \u001b[0;36m<genexpr>\u001b[0;34m(.0)\u001b[0m\n\u001b[1;32m    147\u001b[0m         \u001b[0mNothing\u001b[0m \u001b[0mbut\u001b[0m \u001b[0mit\u001b[0m \u001b[0mremoves\u001b[0m \u001b[0msome\u001b[0m \u001b[0mcells\u001b[0m \u001b[0;32mfrom\u001b[0m \u001b[0mS\u001b[0m \u001b[0;32mand\u001b[0m \u001b[0mU\u001b[0m\u001b[0;34m.\u001b[0m\u001b[0;34m\u001b[0m\u001b[0m\n\u001b[1;32m    148\u001b[0m         \"\"\"\n\u001b[0;32m--> 149\u001b[0;31m         \u001b[0mself\u001b[0m\u001b[0;34m.\u001b[0m\u001b[0mS\u001b[0m\u001b[0;34m,\u001b[0m \u001b[0mself\u001b[0m\u001b[0;34m.\u001b[0m\u001b[0mU\u001b[0m\u001b[0;34m,\u001b[0m \u001b[0mself\u001b[0m\u001b[0;34m.\u001b[0m\u001b[0mA\u001b[0m \u001b[0;34m=\u001b[0m \u001b[0;34m(\u001b[0m\u001b[0mX\u001b[0m\u001b[0;34m[\u001b[0m\u001b[0;34m:\u001b[0m\u001b[0;34m,\u001b[0m \u001b[0mbool_array\u001b[0m\u001b[0;34m]\u001b[0m \u001b[0;32mfor\u001b[0m \u001b[0mX\u001b[0m \u001b[0;32min\u001b[0m \u001b[0;34m(\u001b[0m\u001b[0mself\u001b[0m\u001b[0;34m.\u001b[0m\u001b[0mS\u001b[0m\u001b[0;34m,\u001b[0m \u001b[0mself\u001b[0m\u001b[0;34m.\u001b[0m\u001b[0mU\u001b[0m\u001b[0;34m,\u001b[0m \u001b[0mself\u001b[0m\u001b[0;34m.\u001b[0m\u001b[0mA\u001b[0m\u001b[0;34m)\u001b[0m\u001b[0;34m)\u001b[0m\u001b[0;34m\u001b[0m\u001b[0m\n\u001b[0m\u001b[1;32m    150\u001b[0m         \u001b[0mself\u001b[0m\u001b[0;34m.\u001b[0m\u001b[0minitial_cell_size\u001b[0m \u001b[0;34m=\u001b[0m \u001b[0mself\u001b[0m\u001b[0;34m.\u001b[0m\u001b[0minitial_cell_size\u001b[0m\u001b[0;34m[\u001b[0m\u001b[0mbool_array\u001b[0m\u001b[0;34m]\u001b[0m\u001b[0;34m\u001b[0m\u001b[0m\n\u001b[1;32m    151\u001b[0m         \u001b[0mself\u001b[0m\u001b[0;34m.\u001b[0m\u001b[0minitial_Ucell_size\u001b[0m \u001b[0;34m=\u001b[0m \u001b[0mself\u001b[0m\u001b[0;34m.\u001b[0m\u001b[0minitial_Ucell_size\u001b[0m\u001b[0;34m[\u001b[0m\u001b[0mbool_array\u001b[0m\u001b[0;34m]\u001b[0m\u001b[0;34m\u001b[0m\u001b[0m\n",
      "\u001b[0;31mIndexError\u001b[0m: boolean index did not match indexed array along dimension 1; dimension is 13904 but corresponding boolean dimension is 57519"
     ]
    }
   ],
   "source": [
    "cells_to_keep = np.array(metadata['CellID'].tolist())\n",
    "cellids_vlm = np.array(vlm.ca['CellID'])\n",
    "boolean_list_cells = np.isin(cellids_vlm, cells_to_keep)\n",
    "vlm.filter_cells(boolean_list_cells)\n",
    "##Don't use merge, filter VLM on cells from metadata, then add metadata. -\n",
    "#merged = ca_df.merge(metadata, on='CellID', how='right')"
   ]
  },
  {
   "cell_type": "code",
   "execution_count": 300,
   "metadata": {},
   "outputs": [
    {
     "ename": "AttributeError",
     "evalue": "'VelocytoLoom' object has no attribute 'cluster_labels'",
     "output_type": "error",
     "traceback": [
      "\u001b[0;31m---------------------------------------------------------------------------\u001b[0m",
      "\u001b[0;31mAttributeError\u001b[0m                            Traceback (most recent call last)",
      "\u001b[0;32m<ipython-input-300-6aba9397e8f4>\u001b[0m in \u001b[0;36m<module>\u001b[0;34m()\u001b[0m\n\u001b[0;32m----> 1\u001b[0;31m \u001b[0mprint\u001b[0m\u001b[0;34m(\u001b[0m\u001b[0mvlm\u001b[0m\u001b[0;34m.\u001b[0m\u001b[0mcluster_labels\u001b[0m\u001b[0;34m)\u001b[0m\u001b[0;34m\u001b[0m\u001b[0m\n\u001b[0m",
      "\u001b[0;31mAttributeError\u001b[0m: 'VelocytoLoom' object has no attribute 'cluster_labels'"
     ]
    }
   ],
   "source": [
    "print(vlm.S.shape)"
   ]
  },
  {
   "cell_type": "code",
   "execution_count": 191,
   "metadata": {
    "collapsed": true
   },
   "outputs": [],
   "source": [
    "merged = merged.to_dict('list')"
   ]
  },
  {
   "cell_type": "code",
   "execution_count": 192,
   "metadata": {},
   "outputs": [
    {
     "name": "stdout",
     "output_type": "stream",
     "text": [
      "dict_keys(['CellID', 'Clusters', '_X', '_Y', 'sample_name_x', 'nGene', 'nUMI', 'orig.ident', 'sample_name2', 'sample_name_y', 'diff', 'ucp1.ctrl', 'ucp1.ne', 'bmi', 'age', 'percent.ribo', 'percent.mito', 'res.0.5', 'res.0.6', 'res.0.7', 'res.0.8', 'res.0.9', 'res.1', 'S.Score', 'G2M.Score', 'Phase', 'old.ident', 'CellID-old'])\n"
     ]
    }
   ],
   "source": [
    "print(merged.keys())"
   ]
  },
  {
   "cell_type": "code",
   "execution_count": null,
   "metadata": {
    "collapsed": true
   },
   "outputs": [],
   "source": []
  },
  {
   "cell_type": "code",
   "execution_count": null,
   "metadata": {
    "collapsed": true
   },
   "outputs": [],
   "source": []
  },
  {
   "cell_type": "code",
   "execution_count": null,
   "metadata": {
    "collapsed": true
   },
   "outputs": [],
   "source": []
  },
  {
   "cell_type": "code",
   "execution_count": 193,
   "metadata": {
    "collapsed": true
   },
   "outputs": [],
   "source": [
    "#Apparently it's not possible to store unicode type in HDF5, so you have to manually encode everything\n",
    "\n",
    "vlm.ca['CellID'] = [x.encode('utf8') for x in vlm.ca['CellID']]\n",
    "vlm.ca['sample_name'] = [x.encode('utf8') for x in vlm.ca['sample_name']]\n",
    "\n",
    "for key in merged:\n",
    "    try:\n",
    "        vlm.ca[key] = [x.encode('utf8') for x in merged[key]]\n",
    "    except:\n",
    "        vlm.ca[key] = merged[key] "
   ]
  },
  {
   "cell_type": "code",
   "execution_count": 182,
   "metadata": {},
   "outputs": [
    {
     "name": "stdout",
     "output_type": "stream",
     "text": [
      "dict_keys(['CellID', 'Clusters', '_X', '_Y', 'sample_name'])\n",
      "<class 'list'>\n"
     ]
    }
   ],
   "source": [
    "#print(vlm.ca.keys())\n",
    "#print(type(vlm.ca['sample_name']))"
   ]
  },
  {
   "cell_type": "code",
   "execution_count": 194,
   "metadata": {
    "collapsed": true
   },
   "outputs": [],
   "source": [
    "vlm.to_hdf5('/projects/pytrik/sc_adipose/analyze_10x_fluidigm/data/velocyto/all10x-downsampled-36.hdf5')"
   ]
  },
  {
   "cell_type": "code",
   "execution_count": null,
   "metadata": {
    "collapsed": true
   },
   "outputs": [],
   "source": []
  },
  {
   "cell_type": "code",
   "execution_count": 183,
   "metadata": {},
   "outputs": [
    {
     "name": "stdout",
     "output_type": "stream",
     "text": [
      "[0 5 2 ..., 5 2 4]\n"
     ]
    }
   ],
   "source": [
    "#print(vlm.ca['Clusters'])\n",
    "#vlm.ca['Clusters'] = [x.encode('utf8') for x in vlm.ca['Clusters']]\n",
    "#vlm.set_clusters(vlm.ca[\"sample_name\"])"
   ]
  },
  {
   "cell_type": "code",
   "execution_count": null,
   "metadata": {
    "collapsed": true
   },
   "outputs": [],
   "source": []
  },
  {
   "cell_type": "code",
   "execution_count": null,
   "metadata": {
    "collapsed": true
   },
   "outputs": [],
   "source": []
  },
  {
   "cell_type": "code",
   "execution_count": 196,
   "metadata": {},
   "outputs": [],
   "source": [
    "#vlm = vcy.load_velocyto_hdf5('/projects/pytrik/sc_adipose/analyze_10x_fluidigm/data/velocyto/all10x-downsampled-36.hdf5')"
   ]
  },
  {
   "cell_type": "code",
   "execution_count": 262,
   "metadata": {},
   "outputs": [],
   "source": []
  },
  {
   "cell_type": "code",
   "execution_count": 263,
   "metadata": {
    "collapsed": true
   },
   "outputs": [],
   "source": []
  },
  {
   "cell_type": "code",
   "execution_count": 246,
   "metadata": {},
   "outputs": [
    {
     "name": "stdout",
     "output_type": "stream",
     "text": [
      "['Subq_4:AAATGCCCAGATCGGAx', 'Subq_4:AAATGCCTCGCCAAATx', 'Subq_4:AAACGGGGTAGCGCAAx', 'Subq_4:AAACCTGAGCGACGTAx', 'Subq_4:AAAGCAACAGGTGCCTx', 'Subq_4:AAAGATGAGATAGCATx', 'Subq_4:AAACCTGAGAAGCCCAx', 'Subq_4:AAACCTGGTCCGAGTCx', 'Subq_4:AAAGTAGCAGATAATGx']\n"
     ]
    }
   ],
   "source": [
    "print(cellid_vlm[1:10])"
   ]
  },
  {
   "cell_type": "code",
   "execution_count": 264,
   "metadata": {},
   "outputs": [
    {
     "name": "stdout",
     "output_type": "stream",
     "text": [
      "[False, False, True, False, False, False, True, False, False]\n"
     ]
    }
   ],
   "source": []
  },
  {
   "cell_type": "code",
   "execution_count": 217,
   "metadata": {},
   "outputs": [],
   "source": []
  }
 ],
 "metadata": {
  "kernelspec": {
   "display_name": "Python [conda env:3-4.4.0]",
   "language": "python",
   "name": "conda-env-3-4.4.0-py"
  },
  "language_info": {
   "codemirror_mode": {
    "name": "ipython",
    "version": 3
   },
   "file_extension": ".py",
   "mimetype": "text/x-python",
   "name": "python",
   "nbconvert_exporter": "python",
   "pygments_lexer": "ipython3",
   "version": "3.6.4"
  }
 },
 "nbformat": 4,
 "nbformat_minor": 2
}
