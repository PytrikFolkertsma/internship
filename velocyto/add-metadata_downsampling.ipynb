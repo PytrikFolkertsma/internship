{
 "cells": [
  {
   "cell_type": "code",
   "execution_count": null,
   "metadata": {
    "collapsed": true
   },
   "outputs": [],
   "source": [
    "import loompy\n",
    "import glob\n",
    "import velocyto as vcy\n",
    "%matplotlib inline\n",
    "import matplotlib.pyplot as plt\n",
    "import numpy as np\n",
    "import pandas as pd"
   ]
  },
  {
   "cell_type": "code",
   "execution_count": 202,
   "metadata": {
    "collapsed": true
   },
   "outputs": [],
   "source": [
    "files = glob.glob('/data/sc-10x/data-runs/171120-scheele-adipose/*/velocyto/*.loom')\n",
    "\n",
    "#Loompy.combine looks at the first loom file and uses the \n",
    "#characteristcs of that one for the combined loom file, meaning the order of \n",
    "#the files matters. The CellID column contains the sample name plus bar code, \n",
    "#so if the first file in files is a sample with a short name, the cellID's of \n",
    "#44BSAT-3000_cells and BAT8-3000_cells won't fit in the new cellID column. \n",
    "#With the sorting step below 44BSAT-3000_cells will be the first file.\n",
    "#You can also specify how many characters a column can contain with loompy.combine,\n",
    "#but I don't know if there are more columns containing the cellID.\n",
    "files = sorted(files, key=lambda x: x.split('/')[-1])\n",
    "loompy.combine(files, '/projects/pytrik/sc_adipose/analyze_10x_fluidigm/data/velocyto/all10x.loom', key=\"Accession\")"
   ]
  },
  {
   "cell_type": "code",
   "execution_count": 369,
   "metadata": {
    "collapsed": true
   },
   "outputs": [],
   "source": [
    "vlm = vcy.VelocytoLoom('/projects/pytrik/sc_adipose/analyze_10x_fluidigm/data/velocyto/all10x.loom')"
   ]
  },
  {
   "cell_type": "code",
   "execution_count": 352,
   "metadata": {
    "collapsed": true
   },
   "outputs": [],
   "source": []
  },
  {
   "cell_type": "code",
   "execution_count": 370,
   "metadata": {},
   "outputs": [
    {
     "name": "stdout",
     "output_type": "stream",
     "text": [
      "{'Subq_1', 'Supra_3', 'Peri_3', 'Visce_2', 'Supra_1', 'Supra_2', 'Subq_2', 'Peri_2', 'Visce_1', 'Peri_1', 'Subq_3', 'Visce_3', 'BAT8-3000_cells', '44BSAT-3000_cells'}\n"
     ]
    }
   ],
   "source": [
    "print(set(list(map(lambda x: x.split(':')[0], vlm.ca['CellID']))))"
   ]
  },
  {
   "cell_type": "code",
   "execution_count": 371,
   "metadata": {
    "collapsed": true
   },
   "outputs": [],
   "source": [
    "def rename_cellid(x):\n",
    "    if ('BAT8-3000_cells' in x):\n",
    "        return x.replace('BAT8-3000_cells', 'Supra_4')\n",
    "    elif ('44BSAT-3000_cells' in x):\n",
    "        return x.replace('44BSAT-3000_cells', 'Subq_4')\n",
    "    else:\n",
    "        return x"
   ]
  },
  {
   "cell_type": "code",
   "execution_count": 372,
   "metadata": {},
   "outputs": [],
   "source": [
    "vlm.ca['CellID'] = np.asarray(list(map(rename_cellid, vlm.ca['CellID'])))\n",
    "vlm.ca['sample_name'] = np.asarray(list(map(lambda x: x.split(':')[0], vlm.ca['CellID'])))\n",
    "#vlm.set_clusters(vlm.ca['sample_name'])"
   ]
  },
  {
   "cell_type": "code",
   "execution_count": 373,
   "metadata": {},
   "outputs": [
    {
     "name": "stdout",
     "output_type": "stream",
     "text": [
      "{'Supra_3', 'Peri_3', 'Visce_2', 'Supra_1', 'Supra_2', 'Subq_4', 'Subq_2', 'Peri_2', 'Visce_1', 'Peri_1', 'Subq_3', 'Visce_3', 'Subq_1', 'Supra_4'}\n"
     ]
    }
   ],
   "source": [
    "print(set(vlm.ca['sample_name']))"
   ]
  },
  {
   "cell_type": "code",
   "execution_count": 374,
   "metadata": {},
   "outputs": [],
   "source": [
    "metadata = pd.read_table('/projects/pytrik/sc_adipose/analyze_10x_fluidigm/data/metadata-downsampled-36.txt', sep='\\t')\n",
    "\n",
    "metadata['CellID-old'] = metadata.index\n",
    "metadata['CellID'] = metadata[['CellID-old', 'sample_name']].apply(lambda x: x[1] + ':' + x[0].split('-')[0] + 'x', axis=1)\n",
    "\n",
    "cells_to_keep = np.array(metadata['CellID'].tolist())\n",
    "cellids_vlm = np.array(vlm.ca['CellID'])\n",
    "\n",
    "vlm.filter_cells(bool_array=np.isin(cellids_vlm, cells_to_keep))"
   ]
  },
  {
   "cell_type": "code",
   "execution_count": 375,
   "metadata": {},
   "outputs": [],
   "source": [
    "ca_df = pd.DataFrame(vlm.ca)"
   ]
  },
  {
   "cell_type": "code",
   "execution_count": 376,
   "metadata": {},
   "outputs": [
    {
     "data": {
      "text/plain": [
       "(13904, 5)"
      ]
     },
     "execution_count": 376,
     "metadata": {},
     "output_type": "execute_result"
    }
   ],
   "source": [
    "ca_df.shape"
   ]
  },
  {
   "cell_type": "code",
   "execution_count": 377,
   "metadata": {},
   "outputs": [],
   "source": [
    "merged = ca_df.merge(metadata, on='CellID', how='right')"
   ]
  },
  {
   "cell_type": "code",
   "execution_count": 378,
   "metadata": {},
   "outputs": [
    {
     "name": "stdout",
     "output_type": "stream",
     "text": [
      "(32738, 13904)\n",
      "13904\n"
     ]
    }
   ],
   "source": [
    "print(vlm.S.shape)\n",
    "print(len(vlm.ca['CellID']))"
   ]
  },
  {
   "cell_type": "code",
   "execution_count": 364,
   "metadata": {},
   "outputs": [],
   "source": []
  },
  {
   "cell_type": "code",
   "execution_count": 379,
   "metadata": {
    "collapsed": true
   },
   "outputs": [],
   "source": [
    "merged = merged.to_dict('list')"
   ]
  },
  {
   "cell_type": "code",
   "execution_count": 380,
   "metadata": {},
   "outputs": [
    {
     "name": "stdout",
     "output_type": "stream",
     "text": [
      "dict_keys(['CellID', 'Clusters', '_X', '_Y', 'sample_name_x', 'nGene', 'nUMI', 'orig.ident', 'sample_name2', 'sample_name_y', 'diff', 'ucp1.ctrl', 'ucp1.ne', 'bmi', 'age', 'percent.ribo', 'percent.mito', 'res.0.5', 'res.0.6', 'res.0.7', 'res.0.8', 'res.0.9', 'res.1', 'S.Score', 'G2M.Score', 'Phase', 'old.ident', 'CellID-old'])\n"
     ]
    }
   ],
   "source": [
    "print(merged.keys())"
   ]
  },
  {
   "cell_type": "code",
   "execution_count": null,
   "metadata": {
    "collapsed": true
   },
   "outputs": [],
   "source": []
  },
  {
   "cell_type": "code",
   "execution_count": null,
   "metadata": {
    "collapsed": true
   },
   "outputs": [],
   "source": []
  },
  {
   "cell_type": "code",
   "execution_count": null,
   "metadata": {
    "collapsed": true
   },
   "outputs": [],
   "source": []
  },
  {
   "cell_type": "code",
   "execution_count": 381,
   "metadata": {
    "collapsed": true
   },
   "outputs": [],
   "source": [
    "vlm.ca['CellID'] = np.asarray([x.encode('utf8') for x in vlm.ca['CellID']])\n",
    "vlm.ca['sample_name'] = np.asarray([x.encode('utf8') for x in vlm.ca['sample_name']])\n",
    "\n",
    "for key in merged:\n",
    "    try:\n",
    "        vlm.ca[key] = np.asarray([x.encode('utf8') for x in merged[key]])\n",
    "    except:\n",
    "        vlm.ca[key] = np.asarray(merged[key])"
   ]
  },
  {
   "cell_type": "code",
   "execution_count": null,
   "metadata": {},
   "outputs": [],
   "source": []
  },
  {
   "cell_type": "code",
   "execution_count": 382,
   "metadata": {
    "collapsed": true
   },
   "outputs": [],
   "source": [
    "vlm.to_hdf5('/projects/pytrik/sc_adipose/analyze_10x_fluidigm/data/velocyto/all10x-downsampled-36.hdf5')"
   ]
  },
  {
   "cell_type": "code",
   "execution_count": null,
   "metadata": {
    "collapsed": true
   },
   "outputs": [],
   "source": []
  },
  {
   "cell_type": "code",
   "execution_count": null,
   "metadata": {},
   "outputs": [],
   "source": []
  },
  {
   "cell_type": "code",
   "execution_count": null,
   "metadata": {
    "collapsed": true
   },
   "outputs": [],
   "source": []
  },
  {
   "cell_type": "code",
   "execution_count": null,
   "metadata": {
    "collapsed": true
   },
   "outputs": [],
   "source": []
  },
  {
   "cell_type": "code",
   "execution_count": null,
   "metadata": {},
   "outputs": [],
   "source": []
  },
  {
   "cell_type": "code",
   "execution_count": 262,
   "metadata": {},
   "outputs": [],
   "source": []
  },
  {
   "cell_type": "code",
   "execution_count": 263,
   "metadata": {
    "collapsed": true
   },
   "outputs": [],
   "source": []
  },
  {
   "cell_type": "code",
   "execution_count": null,
   "metadata": {},
   "outputs": [],
   "source": []
  },
  {
   "cell_type": "code",
   "execution_count": null,
   "metadata": {},
   "outputs": [],
   "source": []
  },
  {
   "cell_type": "code",
   "execution_count": 217,
   "metadata": {},
   "outputs": [],
   "source": []
  }
 ],
 "metadata": {
  "kernelspec": {
   "display_name": "Python [conda env:3-4.4.0]",
   "language": "python",
   "name": "conda-env-3-4.4.0-py"
  },
  "language_info": {
   "codemirror_mode": {
    "name": "ipython",
    "version": 3
   },
   "file_extension": ".py",
   "mimetype": "text/x-python",
   "name": "python",
   "nbconvert_exporter": "python",
   "pygments_lexer": "ipython3",
   "version": "3.6.4"
  }
 },
 "nbformat": 4,
 "nbformat_minor": 2
}
